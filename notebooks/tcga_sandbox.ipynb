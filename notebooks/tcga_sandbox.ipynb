{
 "cells": [
  {
   "cell_type": "code",
   "execution_count": 9,
   "id": "8b47102d",
   "metadata": {},
   "outputs": [
    {
     "name": "stdout",
     "output_type": "stream",
     "text": [
      "['coords', 'features', 'patch_grid_idx']\n",
      "(14695, 1024)\n",
      "(14695, 2)\n",
      "619\n"
     ]
    }
   ],
   "source": [
    "import h5py\n",
    "\n",
    "with h5py.File(\"/media/hdd1/neo/TCGA-LUSC_ResNet/TCGA-6A-AB49-01Z-00-DX1.FDF2EED7-57A3-4019-A382-21DED11780F6-patch_features.h5\", \"r\") as f:\n",
    "    print(list(f.keys())) \n",
    "    print(f[\"features\"].shape)\n",
    "    print(f[\"coords\"].shape)\n",
    "    print(f[\"patch_grid_idx\"][6])"
   ]
  },
  {
   "cell_type": "code",
   "execution_count": 54,
   "id": "6d58b6e9",
   "metadata": {},
   "outputs": [
    {
     "name": "stderr",
     "output_type": "stream",
     "text": [
      "Processing LUSC:   0%|          | 0/512 [00:00<?, ?it/s]"
     ]
    },
    {
     "name": "stderr",
     "output_type": "stream",
     "text": [
      "Processing LUSC: 100%|██████████| 512/512 [05:08<00:00,  1.66it/s]\n",
      "Processing LUAD:   1%|▏         | 8/541 [00:01<00:53,  9.93it/s]"
     ]
    },
    {
     "name": "stdout",
     "output_type": "stream",
     "text": [
      "⚠️ Missing patch_metadata.csv for TCGA-05-4384-01Z-00-DX1.CA68BF29-BBE3-4C8E-B48B-554431A9EE13\n",
      "⚠️ Missing patch_metadata.csv for TCGA-05-4390-01Z-00-DX1.858E64DF-DD3E-4F43-B7C1-CE35B33F1C90\n"
     ]
    },
    {
     "name": "stderr",
     "output_type": "stream",
     "text": [
      "Processing LUAD:   3%|▎         | 14/541 [00:03<02:16,  3.85it/s]"
     ]
    },
    {
     "name": "stdout",
     "output_type": "stream",
     "text": [
      "⚠️ Missing patch_metadata.csv for TCGA-05-4410-01Z-00-DX1.E5B66334-4949-4F45-9200-296B1A2F1AD5\n"
     ]
    },
    {
     "name": "stderr",
     "output_type": "stream",
     "text": [
      "Processing LUAD:   4%|▍         | 21/541 [00:04<01:57,  4.44it/s]"
     ]
    },
    {
     "name": "stdout",
     "output_type": "stream",
     "text": [
      "⚠️ Missing patch_metadata.csv for TCGA-05-4425-01Z-00-DX1.82B093EE-49BC-4FD9-91AC-4CC89944309D\n"
     ]
    },
    {
     "name": "stderr",
     "output_type": "stream",
     "text": [
      "Processing LUAD:   5%|▌         | 28/541 [00:06<02:51,  2.99it/s]"
     ]
    },
    {
     "name": "stdout",
     "output_type": "stream",
     "text": [
      "⚠️ Missing patch_metadata.csv for TCGA-05-5420-01Z-00-DX1.8C253A99-44FD-48B6-AF31-D808CCB7DB1E\n",
      "⚠️ Missing patch_metadata.csv for TCGA-05-5423-01Z-00-DX1.CCCF5FDB-ACAD-4D9D-80DF-556F0D6284AF\n",
      "⚠️ Missing patch_metadata.csv for TCGA-05-5425-01Z-00-DX1.85865B2F-4888-43DD-A501-458BEFCF832B\n",
      "⚠️ Missing patch_metadata.csv for TCGA-05-5428-01Z-00-DX1.8018AD62-F1CE-4BFF-8EFD-3F2D4513FC11\n",
      "⚠️ Missing patch_metadata.csv for TCGA-05-5429-01Z-00-DX1.20729065-FADA-4E43-98D7-AFA5FB4A0447\n",
      "⚠️ Missing patch_metadata.csv for TCGA-05-5715-01Z-00-DX1.D3F0A1FA-2507-45FF-823F-F9981E62BB4C\n"
     ]
    },
    {
     "name": "stderr",
     "output_type": "stream",
     "text": [
      "Processing LUAD: 100%|██████████| 541/541 [06:39<00:00,  1.35it/s]\n"
     ]
    },
    {
     "name": "stdout",
     "output_type": "stream",
     "text": [
      "✅ Saved 15582044 rows to /home/alpaca/Documents/van/wsi_sampling/data/tcga_luad_lusc/parquet/tiles.parquet\n",
      "✅ Saved 1043 rows to /home/alpaca/Documents/van/wsi_sampling/data/tcga_luad_lusc/parquet/features.parquet\n",
      "✅ Saved 1043 rows to /home/alpaca/Documents/van/wsi_sampling/data/tcga_luad_lusc/parquet/labels/slide_labels.parquet\n"
     ]
    }
   ],
   "source": [
    "from pathlib import Path\n",
    "import pandas as pd\n",
    "import h5py\n",
    "from tqdm import tqdm\n",
    "\n",
    "# --- base output path ---\n",
    "data_dir = Path(\"/home/alpaca/Documents/van/wsi_sampling/data/tcga_luad_lusc\")\n",
    "pq_dir = data_dir / \"parquet\"\n",
    "pq_dir.mkdir(parents=True, exist_ok=True)\n",
    "\n",
    "tiles_parquet = pq_dir / \"tiles.parquet\"\n",
    "features_parquet = pq_dir / \"features.parquet\"\n",
    "labels_parquet = pq_dir / \"labels\" / \"slide_labels.parquet\"\n",
    "labels_parquet.parent.mkdir(parents=True, exist_ok=True)\n",
    "\n",
    "# --- dataset definitions ---\n",
    "datasets = {\n",
    "    \"lusc\": {\n",
    "        \"wsi_dir\": Path(\"/media/ssd1/TCGA_WSI/TCGA-LUSC\"),\n",
    "        \"tile_dir\": Path(\"/media/ssd1/TCGA_WSI/TCGA-LUSC_PF\"),\n",
    "        \"info_dir\": Path(\"/media/ssd1/TCGA_WSI/TCGA-LUSC_pg_224\"),\n",
    "        \"feature_dir\": Path(\"/media/hdd1/neo/TCGA-LUSC_ResNet\"),\n",
    "    },\n",
    "    \"luad\": {\n",
    "        \"wsi_dir\": Path(\"/media/ssd1/TCGA_WSI/TCGA-LUAD\"),\n",
    "        \"tile_dir\": Path(\"/media/ssd1/TCGA_WSI/TCGA-LUAD_PF\"),\n",
    "        \"info_dir\": Path(\"/media/ssd1/TCGA_WSI/TCGA-LUAD_pg_224\"),\n",
    "        \"feature_dir\": Path(\"/media/hdd1/neo/TCGA-LUAD_ResNet\"),\n",
    "    },\n",
    "}\n",
    "\n",
    "tile_records = []\n",
    "feature_records = []\n",
    "label_records = []\n",
    "\n",
    "for label, cfg in datasets.items():\n",
    "    wsi_dir = cfg[\"wsi_dir\"]\n",
    "    tile_dir = cfg[\"tile_dir\"]\n",
    "    info_dir = cfg[\"info_dir\"]\n",
    "    feature_dir = cfg[\"feature_dir\"]\n",
    "\n",
    "    svs_paths = sorted(wsi_dir.glob(\"*.svs\"))\n",
    "\n",
    "    for svs_path in tqdm(svs_paths, desc=f\"Processing {label.upper()}\"):\n",
    "        slide_id = svs_path.stem\n",
    "        patch_csv = info_dir / slide_id / \"patch_metadata.csv\"\n",
    "        if not patch_csv.exists():\n",
    "            print(f\"⚠️ Missing patch_metadata.csv for {slide_id}\")\n",
    "            continue\n",
    "\n",
    "        patch_info = pd.read_csv(patch_csv)\n",
    "        if \"include\" in patch_info.columns:\n",
    "            patch_info = patch_info[patch_info[\"include\"]].reset_index(drop=True)\n",
    "        else:\n",
    "            patch_info = patch_info.reset_index(drop=True)\n",
    "\n",
    "        # --- tiles ---\n",
    "        for tile_idx, row in patch_info.iterrows():\n",
    "            x, y = row[\"x\"], row[\"y\"]\n",
    "            tile_path = tile_dir / slide_id / f\"patch_{tile_idx}.jpg\"\n",
    "            tile_records.append({\n",
    "                \"slide_id\": slide_id,\n",
    "                \"patch_grid_idx\": row[\"patch_grid_idx\"],\n",
    "                \"x\": int(x),\n",
    "                \"y\": int(y),\n",
    "                \"patch_uri\": str(tile_path)\n",
    "            })\n",
    "\n",
    "        # --- features (one per slide) ---\n",
    "        feat_path = feature_dir / f\"{slide_id}-patch_features.h5\"\n",
    "        if not feat_path.exists():\n",
    "            print(f\"⚠️ Missing feature file for {slide_id}\")\n",
    "            continue\n",
    "\n",
    "        try:\n",
    "            with h5py.File(feat_path, \"r\") as f:\n",
    "                n_feats = f[\"features\"].shape[0]\n",
    "        except Exception as e:\n",
    "            print(f\"⚠️ Error reading {feat_path}: {e}\")\n",
    "            continue\n",
    "\n",
    "        n_patches = len(patch_info)\n",
    "        if n_feats != n_patches:\n",
    "            print(f\"⚠️ Mismatch for {slide_id}: {n_feats} features vs {n_patches} patches\")\n",
    "            continue\n",
    "\n",
    "        feature_records.append({\n",
    "            \"slide_id\": slide_id,\n",
    "            \"feature_uri\": str(feat_path)\n",
    "        })\n",
    "\n",
    "        label_records.append({\n",
    "            \"slide_id\": slide_id,\n",
    "            \"label\": label\n",
    "        })\n",
    "\n",
    "# --- write parquet files ---\n",
    "tiles_df = pd.DataFrame.from_records(tile_records)\n",
    "tiles_df.to_parquet(tiles_parquet, index=False)\n",
    "print(f\"✅ Saved {len(tiles_df)} rows to {tiles_parquet}\")\n",
    "\n",
    "features_df = pd.DataFrame.from_records(feature_records)\n",
    "features_df.to_parquet(features_parquet, index=False)\n",
    "print(f\"✅ Saved {len(features_df)} rows to {features_parquet}\")\n",
    "\n",
    "labels_df = pd.DataFrame.from_records(label_records)\n",
    "labels_df.to_parquet(labels_parquet, index=False)\n",
    "print(f\"✅ Saved {len(labels_df)} rows to {labels_parquet}\")\n"
   ]
  },
  {
   "cell_type": "code",
   "execution_count": 65,
   "id": "cf7d0c2c",
   "metadata": {},
   "outputs": [
    {
     "data": {
      "text/html": [
       "<div>\n",
       "<style scoped>\n",
       "    .dataframe tbody tr th:only-of-type {\n",
       "        vertical-align: middle;\n",
       "    }\n",
       "\n",
       "    .dataframe tbody tr th {\n",
       "        vertical-align: top;\n",
       "    }\n",
       "\n",
       "    .dataframe thead th {\n",
       "        text-align: right;\n",
       "    }\n",
       "</style>\n",
       "<table border=\"1\" class=\"dataframe\">\n",
       "  <thead>\n",
       "    <tr style=\"text-align: right;\">\n",
       "      <th></th>\n",
       "      <th>slide_id</th>\n",
       "      <th>patch_grid_idx</th>\n",
       "      <th>x</th>\n",
       "      <th>y</th>\n",
       "      <th>patch_uri</th>\n",
       "    </tr>\n",
       "  </thead>\n",
       "  <tbody>\n",
       "    <tr>\n",
       "      <th>0</th>\n",
       "      <td>TCGA-18-3406-01Z-00-DX1.8D07F006-425C-4724-BBB...</td>\n",
       "      <td>1179</td>\n",
       "      <td>84825</td>\n",
       "      <td>2031</td>\n",
       "      <td>/media/ssd1/TCGA_WSI/TCGA-LUSC_PF/TCGA-18-3406...</td>\n",
       "    </tr>\n",
       "    <tr>\n",
       "      <th>1</th>\n",
       "      <td>TCGA-18-3406-01Z-00-DX1.8D07F006-425C-4724-BBB...</td>\n",
       "      <td>1180</td>\n",
       "      <td>85333</td>\n",
       "      <td>2031</td>\n",
       "      <td>/media/ssd1/TCGA_WSI/TCGA-LUSC_PF/TCGA-18-3406...</td>\n",
       "    </tr>\n",
       "    <tr>\n",
       "      <th>2</th>\n",
       "      <td>TCGA-18-3406-01Z-00-DX1.8D07F006-425C-4724-BBB...</td>\n",
       "      <td>1422</td>\n",
       "      <td>79746</td>\n",
       "      <td>2539</td>\n",
       "      <td>/media/ssd1/TCGA_WSI/TCGA-LUSC_PF/TCGA-18-3406...</td>\n",
       "    </tr>\n",
       "    <tr>\n",
       "      <th>3</th>\n",
       "      <td>TCGA-18-3406-01Z-00-DX1.8D07F006-425C-4724-BBB...</td>\n",
       "      <td>1423</td>\n",
       "      <td>80253</td>\n",
       "      <td>2539</td>\n",
       "      <td>/media/ssd1/TCGA_WSI/TCGA-LUSC_PF/TCGA-18-3406...</td>\n",
       "    </tr>\n",
       "    <tr>\n",
       "      <th>4</th>\n",
       "      <td>TCGA-18-3406-01Z-00-DX1.8D07F006-425C-4724-BBB...</td>\n",
       "      <td>1424</td>\n",
       "      <td>80761</td>\n",
       "      <td>2539</td>\n",
       "      <td>/media/ssd1/TCGA_WSI/TCGA-LUSC_PF/TCGA-18-3406...</td>\n",
       "    </tr>\n",
       "    <tr>\n",
       "      <th>...</th>\n",
       "      <td>...</td>\n",
       "      <td>...</td>\n",
       "      <td>...</td>\n",
       "      <td>...</td>\n",
       "      <td>...</td>\n",
       "    </tr>\n",
       "    <tr>\n",
       "      <th>15582039</th>\n",
       "      <td>TCGA-S2-AA1A-01Z-00-DX1.4B5D5FAE-8305-4D2D-B24...</td>\n",
       "      <td>45995</td>\n",
       "      <td>99722</td>\n",
       "      <td>88199</td>\n",
       "      <td>/media/ssd1/TCGA_WSI/TCGA-LUAD_PF/TCGA-S2-AA1A...</td>\n",
       "    </tr>\n",
       "    <tr>\n",
       "      <th>15582040</th>\n",
       "      <td>TCGA-S2-AA1A-01Z-00-DX1.4B5D5FAE-8305-4D2D-B24...</td>\n",
       "      <td>45996</td>\n",
       "      <td>100166</td>\n",
       "      <td>88199</td>\n",
       "      <td>/media/ssd1/TCGA_WSI/TCGA-LUAD_PF/TCGA-S2-AA1A...</td>\n",
       "    </tr>\n",
       "    <tr>\n",
       "      <th>15582041</th>\n",
       "      <td>TCGA-S2-AA1A-01Z-00-DX1.4B5D5FAE-8305-4D2D-B24...</td>\n",
       "      <td>45997</td>\n",
       "      <td>100609</td>\n",
       "      <td>88199</td>\n",
       "      <td>/media/ssd1/TCGA_WSI/TCGA-LUAD_PF/TCGA-S2-AA1A...</td>\n",
       "    </tr>\n",
       "    <tr>\n",
       "      <th>15582042</th>\n",
       "      <td>TCGA-S2-AA1A-01Z-00-DX1.4B5D5FAE-8305-4D2D-B24...</td>\n",
       "      <td>45998</td>\n",
       "      <td>101052</td>\n",
       "      <td>88199</td>\n",
       "      <td>/media/ssd1/TCGA_WSI/TCGA-LUAD_PF/TCGA-S2-AA1A...</td>\n",
       "    </tr>\n",
       "    <tr>\n",
       "      <th>15582043</th>\n",
       "      <td>TCGA-S2-AA1A-01Z-00-DX1.4B5D5FAE-8305-4D2D-B24...</td>\n",
       "      <td>45999</td>\n",
       "      <td>101495</td>\n",
       "      <td>88199</td>\n",
       "      <td>/media/ssd1/TCGA_WSI/TCGA-LUAD_PF/TCGA-S2-AA1A...</td>\n",
       "    </tr>\n",
       "  </tbody>\n",
       "</table>\n",
       "<p>15582044 rows × 5 columns</p>\n",
       "</div>"
      ],
      "text/plain": [
       "                                                   slide_id  patch_grid_idx  \\\n",
       "0         TCGA-18-3406-01Z-00-DX1.8D07F006-425C-4724-BBB...            1179   \n",
       "1         TCGA-18-3406-01Z-00-DX1.8D07F006-425C-4724-BBB...            1180   \n",
       "2         TCGA-18-3406-01Z-00-DX1.8D07F006-425C-4724-BBB...            1422   \n",
       "3         TCGA-18-3406-01Z-00-DX1.8D07F006-425C-4724-BBB...            1423   \n",
       "4         TCGA-18-3406-01Z-00-DX1.8D07F006-425C-4724-BBB...            1424   \n",
       "...                                                     ...             ...   \n",
       "15582039  TCGA-S2-AA1A-01Z-00-DX1.4B5D5FAE-8305-4D2D-B24...           45995   \n",
       "15582040  TCGA-S2-AA1A-01Z-00-DX1.4B5D5FAE-8305-4D2D-B24...           45996   \n",
       "15582041  TCGA-S2-AA1A-01Z-00-DX1.4B5D5FAE-8305-4D2D-B24...           45997   \n",
       "15582042  TCGA-S2-AA1A-01Z-00-DX1.4B5D5FAE-8305-4D2D-B24...           45998   \n",
       "15582043  TCGA-S2-AA1A-01Z-00-DX1.4B5D5FAE-8305-4D2D-B24...           45999   \n",
       "\n",
       "               x      y                                          patch_uri  \n",
       "0          84825   2031  /media/ssd1/TCGA_WSI/TCGA-LUSC_PF/TCGA-18-3406...  \n",
       "1          85333   2031  /media/ssd1/TCGA_WSI/TCGA-LUSC_PF/TCGA-18-3406...  \n",
       "2          79746   2539  /media/ssd1/TCGA_WSI/TCGA-LUSC_PF/TCGA-18-3406...  \n",
       "3          80253   2539  /media/ssd1/TCGA_WSI/TCGA-LUSC_PF/TCGA-18-3406...  \n",
       "4          80761   2539  /media/ssd1/TCGA_WSI/TCGA-LUSC_PF/TCGA-18-3406...  \n",
       "...          ...    ...                                                ...  \n",
       "15582039   99722  88199  /media/ssd1/TCGA_WSI/TCGA-LUAD_PF/TCGA-S2-AA1A...  \n",
       "15582040  100166  88199  /media/ssd1/TCGA_WSI/TCGA-LUAD_PF/TCGA-S2-AA1A...  \n",
       "15582041  100609  88199  /media/ssd1/TCGA_WSI/TCGA-LUAD_PF/TCGA-S2-AA1A...  \n",
       "15582042  101052  88199  /media/ssd1/TCGA_WSI/TCGA-LUAD_PF/TCGA-S2-AA1A...  \n",
       "15582043  101495  88199  /media/ssd1/TCGA_WSI/TCGA-LUAD_PF/TCGA-S2-AA1A...  \n",
       "\n",
       "[15582044 rows x 5 columns]"
      ]
     },
     "execution_count": 65,
     "metadata": {},
     "output_type": "execute_result"
    }
   ],
   "source": [
    "tiles_df"
   ]
  },
  {
   "cell_type": "code",
   "execution_count": 60,
   "id": "4d2988bb",
   "metadata": {},
   "outputs": [
    {
     "name": "stdout",
     "output_type": "stream",
     "text": [
      "Label proportions:\n",
      "label\n",
      "luad    0.509108\n",
      "lusc    0.490892\n",
      "Name: proportion, dtype: float64\n",
      "✅ Saved 1043 rows to /home/alpaca/Documents/van/wsi_sampling/data/tcga_luad_lusc/parquet/split_1.parquet\n",
      "\n",
      "Split summary:\n",
      "split\n",
      "train    730\n",
      "test     157\n",
      "val      156\n",
      "Name: count, dtype: int64\n"
     ]
    }
   ],
   "source": [
    "from pathlib import Path\n",
    "import pandas as pd\n",
    "from sklearn.model_selection import train_test_split\n",
    "\n",
    "# --- paths ---\n",
    "pq_dir = Path(\"/home/alpaca/Documents/van/wsi_sampling/data/tcga_luad_lusc/parquet\")\n",
    "labels_path = pq_dir / \"slide_labels.parquet\"\n",
    "splits_path = pq_dir / \"split_1.parquet\"\n",
    "\n",
    "# --- load labels ---\n",
    "labels_df = pd.read_parquet(labels_path)\n",
    "\n",
    "# --- label distribution ---\n",
    "print(\"Label proportions:\")\n",
    "print(labels_df[\"label\"].value_counts(normalize=True))\n",
    "\n",
    "# --- stratified 70/15/15 split ---\n",
    "train_df, temp_df = train_test_split(\n",
    "    labels_df,\n",
    "    test_size=0.30,\n",
    "    stratify=labels_df[\"label\"],\n",
    "    random_state=42,\n",
    ")\n",
    "val_df, test_df = train_test_split(\n",
    "    temp_df,\n",
    "    test_size=0.50,\n",
    "    stratify=temp_df[\"label\"],\n",
    "    random_state=42,\n",
    ")\n",
    "\n",
    "# --- combine with split column ---\n",
    "train_df = train_df.assign(split=\"train\")\n",
    "val_df = val_df.assign(split=\"val\")\n",
    "test_df = test_df.assign(split=\"test\")\n",
    "\n",
    "splits_df = pd.concat([train_df, val_df, test_df], ignore_index=True)\n",
    "splits_df.drop(columns=[\"label\"], inplace=True)\n",
    "splits_df.to_parquet(splits_path, index=False)\n",
    "\n",
    "print(f\"✅ Saved {len(splits_df)} rows to {splits_path}\")\n",
    "print(\"\\nSplit summary:\")\n",
    "print(splits_df[\"split\"].value_counts())"
   ]
  },
  {
   "cell_type": "code",
   "execution_count": 64,
   "id": "cf976b31",
   "metadata": {},
   "outputs": [
    {
     "name": "stdout",
     "output_type": "stream",
     "text": [
      "<KeysViewHDF5 ['coords', 'features', 'patch_grid_idx']>\n"
     ]
    }
   ],
   "source": [
    "with h5py.File(feat_path, \"r\") as f:\n",
    "    print(f.keys())"
   ]
  }
 ],
 "metadata": {
  "kernelspec": {
   "display_name": "van-mil-samp",
   "language": "python",
   "name": "python3"
  },
  "language_info": {
   "codemirror_mode": {
    "name": "ipython",
    "version": 3
   },
   "file_extension": ".py",
   "mimetype": "text/x-python",
   "name": "python",
   "nbconvert_exporter": "python",
   "pygments_lexer": "ipython3",
   "version": "3.10.18"
  }
 },
 "nbformat": 4,
 "nbformat_minor": 5
}
